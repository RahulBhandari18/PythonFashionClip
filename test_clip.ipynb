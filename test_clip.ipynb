print("running")
// Step 1: create embeddings
// Step 2: 