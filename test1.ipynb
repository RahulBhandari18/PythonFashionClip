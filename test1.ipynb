{
 "cells": [
  {
   "cell_type": "code",
   "execution_count": 1,
   "metadata": {},
   "outputs": [
    {
     "name": "stdout",
     "output_type": "stream",
     "text": [
      "Read access confirmed. Sample document: {'_id': ObjectId('648437b0f0f526c7794ff3ea'), 'item_id': 3, 'item_url': 'https://www.urbanoutfitters.com/shop/uo-wildflower-lace-babydoll-mini-dress?category=dresses&color=053&type=REGULAR', 'product_brand': 'Urban Outfitters', 'short_description': 'Wildflower Lace Mini Dress', 'price': 69, 'colors': 'White', 'long_description': 'WE NO LONGER SELL URBAN OUTFITTERS. Babydoll mini dress with lacey detailing at the neckline + sleeves and eyelet flowers at the hem. Cut with a square neckline, an empire waist and a swingy skirt. Complete with a button placket at the front and an adjustable tie at the back. Only at UO.', 'image_urls': ['https://images.urbndata.com/is/image/UrbanOutfitters/79607115_053_b?$xlarge$&fit=constrain&qlt=80&wid=640', 'https://images.urbndata.com/is/image/UrbanOutfitters/79607115_053_d?$xlarge$&fit=constrain&qlt=80&wid=640', 'https://images.urbndata.com/is/image/UrbanOutfitters/79607115_053_e?$xlarge$&fit=constrain&qlt=80&wid=640', 'https://images.urbndata.com/is/image/UrbanOutfitters/79607115_053_f?$xlarge$&fit=constrain&qlt=80&wid=640', 'https://images.urbndata.com/is/image/UrbanOutfitters/79607115_053_g?$xlarge$&fit=constrain&qlt=80&wid=640'], 'item_type': 'Mini Dress', 'item_tags': ['empire', 'flowy', 'button'], 'item_attr': ['lace', 'square'], 'price_range': '$50-$99', 'discount': nan, 'discount_codes': ['Duke10', 'tysm10'], 'inventory': {'XS': False, 'S': False, 'M': False, 'L': False, 'XL': False}, 'old_price': 0, 'tags': [], 'active': False, 'image_embedding': [0.18950174748897552, 1.1733494997024536, 0.2184111475944519, -0.403606116771698, -0.7161880731582642, -0.04733120650053024, -0.1004219651222229, 0.011444054543972015, -0.08917036652565002, 0.022534571588039398, -0.10019813477993011, 0.07056792080402374, -0.04907536506652832, 0.1250056028366089, 0.07146897912025452, 0.10529690980911255, -1.2219486236572266, -0.7646235227584839, 0.4359651505947113, 0.08938688039779663, -0.35220104455947876, 0.3463648855686188, -0.08379420638084412, 0.1882191300392151, 0.17353034019470215, -0.5437648296356201, 0.11031486093997955, -0.3231061100959778, -0.03854893147945404, 0.26442021131515503, 0.02564847469329834, 0.3919411301612854, 0.2959882915019989, -0.6322091817855835, -0.4980347752571106, 0.4720862805843353, -0.38120293617248535, -0.040664538741111755, 0.20685043931007385, 0.3683069944381714, -0.0455763041973114, -0.29713118076324463, 0.40245920419692993, -0.2778127193450928, -0.052942290902137756, -0.23040106892585754, -0.3183675706386566, -0.13516883552074432, 0.23769783973693848, 0.11254476010799408, 0.12480561435222626, 0.2524000108242035, 0.26670974493026733, 0.0688234269618988, -1.3708585500717163, 0.4036344289779663, -0.8935726881027222, 0.11059507727622986, 0.6727403998374939, 0.518322765827179, -0.6290645599365234, 0.13850107789039612, 0.4069817364215851, -0.37353914976119995, 0.42421796917915344, 0.3801913559436798, 0.016746491193771362, -0.3654884099960327, 0.10829346626996994, 0.5271550416946411, -0.49480709433555603, 0.962722897529602, 0.4627076983451843, 0.10398781299591064, 0.10130658745765686, -0.6717908978462219, -0.09261389076709747, 0.32510140538215637, -0.07319846749305725, -0.10728110373020172, 0.021097980439662933, -0.29321736097335815, -0.12419696897268295, 0.04183262586593628, 0.45332640409469604, -0.35257789492607117, -0.31330737471580505, -0.013632044196128845, -0.020227044820785522, 0.18687789142131805, -0.1014639213681221, -0.027991697192192078, 0.3082934319972992, -0.6168464422225952, 0.45155829191207886, 0.2583368718624115, 0.11419672518968582, 0.040047988295555115, -0.3963526785373688, -0.28728148341178894, -0.43574976921081543, 0.32275354862213135, -0.3081775903701782, 0.2280063033103943, 0.4237035810947418, 0.052485913038253784, 0.2892135679721832, 0.0591377317905426, 0.40876254439353943, -0.17952275276184082, 0.2906319200992584, -0.09575676918029785, -0.2853217124938965, 0.1686919927597046, 0.1518586426973343, -0.032212868332862854, 0.0478551983833313, 0.397551953792572, 0.4929838180541992, 0.2222292423248291, 0.17087022960186005, 0.0896180123090744, 0.48975637555122375, -0.25332632660865784, 0.1083061620593071, -0.025933213531970978, 0.5828481912612915, 0.21418419480323792, 0.12972575426101685, 0.04822711646556854, 0.5972205996513367, 0.08611895143985748, 0.04590858519077301, -0.22662833333015442, 0.29456061124801636, 0.3870483934879303, 0.20621874928474426, 0.19075465202331543, -0.26217591762542725, 0.7459713220596313, -0.6827384233474731, 0.5099766850471497, 0.16387665271759033, 0.5406100153923035, 0.5036906599998474, 0.01006767526268959, -0.4515887498855591, 0.4868471622467041, 0.573087215423584, 1.1621185541152954, 0.23966169357299805, -0.01771959662437439, 2.496628522872925, -0.4592667818069458, -0.6875471472740173, 0.5072357654571533, 0.43419939279556274, -0.17046064138412476, 0.07996053993701935, 0.33409014344215393, 0.5468313694000244, 0.17524075508117676, 0.25704044103622437, 0.08005667477846146, -0.02762187272310257, -0.3945004940032959, 0.01575309783220291, 0.10969775915145874, 0.3745790719985962, 0.7257598638534546, 0.13762855529785156, 0.1269511729478836, 0.659716784954071, 0.08296723663806915, 0.0007918030023574829, 0.05315473675727844, 0.5110573768615723, 0.36147981882095337, 0.19614462554454803, 0.5080803632736206, 0.07479733973741531, 0.01245369017124176, -0.5817515850067139, 0.6299670934677124, -0.4406164884567261, 0.3355574905872345, 0.7739782929420471, 0.055659905076026917, -0.05190444737672806, -0.18061937391757965, 0.1100803017616272, 1.7408649921417236, 0.20831356942653656, -0.37222999334335327, 0.02722795307636261, -0.054033778607845306, 0.3550749719142914, 0.26226696372032166, 0.07165046781301498, -0.26669007539749146, 1.1765450239181519, -1.1393793821334839, -0.33997347950935364, -0.8450103998184204, 0.21454690396785736, -0.15508641302585602, 0.028998345136642456, 0.20706818997859955, -0.01735067367553711, 0.2532726526260376, -0.09365338087081909, -0.12985257804393768, 0.45992356538772583, -0.32729390263557434, -0.6148232221603394, 0.0452619343996048, -0.3850289583206177, -0.16758117079734802, 0.119593545794487, 0.8383432626724243, -0.41831278800964355, 0.28844860196113586, -0.6000100374221802, -0.561684250831604, 0.44874465465545654, -0.3489569425582886, -0.33629992604255676, 0.36268842220306396, -0.15948176383972168, -0.32157161831855774, -0.14066404104232788, -0.1088552474975586, -0.2526760697364807, -0.1661539524793625, -0.07154206931591034, -0.48421919345855713, -0.11760929226875305, 0.7339339852333069, 0.09447528421878815, -0.015230949968099594, -0.0819915235042572, 0.3591724634170532, -0.02028566598892212, 0.10364241898059845, -0.3157315254211426, -0.2491316944360733, -0.6029684543609619, -0.1369205117225647, 0.41781914234161377, 0.6865119338035583, 0.9683643579483032, 0.05324316769838333, -0.18124981224536896, -0.49502021074295044, -0.9140259623527527, -0.43244630098342896, -0.6063872575759888, -0.4163477420806885, -0.6309413909912109, 0.4130544066429138, 0.1260165423154831, 0.35370564460754395, 0.11408279091119766, -0.18184295296669006, 0.15504559874534607, 0.00507374107837677, -0.048330843448638916, 0.3143511414527893, -0.26266682147979736, -0.27189192175865173, 0.08073979616165161, -0.016587033867836, -0.16155746579170227, -0.03402291238307953, -0.16593344509601593, 0.09979976713657379, 0.025733888149261475, -0.02577822655439377, -0.01970873773097992, 0.138251394033432, 0.1716855764389038, 0.48260602355003357, 0.2518332302570343, 0.6835149526596069, -0.24200451374053955, -0.19361746311187744, -0.296419620513916, 0.02054038643836975, 0.2928822636604309, -0.38271626830101013, -0.18715398013591766, -0.06308379769325256, 0.5039164423942566, -0.46631747484207153, 0.09445169568061829, 0.2719686031341553, 0.07410093396902084, 0.9131323099136353, 0.09637559950351715, -0.16092956066131592, 1.0525439977645874, -0.7534569501876831, 0.22541818022727966, 0.4485357403755188, 1.2848578691482544, 0.16780157387256622, -0.14142179489135742, -2.4814836978912354, 0.026964321732521057, 0.2759862542152405, -0.08662381768226624, -1.2272329330444336, -0.05948217213153839, -0.01715722680091858, 0.8660061359405518, 0.17914465069770813, -0.26762574911117554, -0.7901732921600342, 0.27891772985458374, -0.501799464225769, 0.1451483964920044, -0.02544957399368286, 0.2936989367008209, 1.4447282552719116, -0.6347489356994629, 0.6356865167617798, -0.4846982955932617, 0.4037262201309204, -0.6561217308044434, -0.7133878469467163, 0.08081797510385513, 0.28501662611961365, -0.289997398853302, 0.6305189728736877, -0.12820227444171906, 0.104400634765625, 0.05073702335357666, -0.43980151414871216, -0.4236838221549988, 0.13358227908611298, 0.1918707638978958, 0.46854889392852783, -0.36181509494781494, -0.16874884068965912, 0.2725783586502075, -0.332447350025177, 0.1602267622947693, 0.017422810196876526, -0.8674261569976807, -0.02581574022769928, 0.22099748253822327, -0.678398072719574, -0.18806159496307373, -0.10027048736810684, 0.4712343215942383, 0.4120575487613678, -0.09348665177822113, 0.1920372098684311, -0.04006043076515198, 0.3550894558429718, 0.04598221182823181, 0.18853485584259033, -0.31798627972602844, -0.35104209184646606, -0.1437893807888031, -0.00473351776599884, 0.3781331777572632, 0.15850210189819336, 0.4041750729084015, 0.414587140083313, -0.3114122748374939, -0.2950443923473358, 0.27191779017448425, 0.03647926077246666, 0.2911885380744934, 0.7728817462921143, -0.20181947946548462, 0.13680143654346466, 0.038729071617126465, -0.1682644635438919, 0.3481188118457794, 0.7745144367218018, -0.0617886483669281, 0.4135228991508484, 0.09852910041809082, 0.5543099641799927, -0.7129587531089783, 0.07405483722686768, 0.7698987722396851, -0.3255966603755951, 0.14872565865516663, -0.31276190280914307, -0.052213817834854126, 0.2871522903442383, 0.8750280141830444, -0.13941515982151031, 0.6936092376708984, 0.04405108094215393, 0.17293909192085266, 0.1178484857082367, 0.1635524332523346, 0.06239129602909088, -0.11843574047088623, 0.5072425007820129, -0.3194143772125244, 0.25352606177330017, 0.024858877062797546, -0.08831234276294708, -0.48309391736984253, 0.454674631357193, -0.3799372911453247, -0.5263917446136475, 0.534771203994751, 0.05670531094074249, 0.4031588137149811, 0.22836531698703766, 0.16525134444236755, 0.19358067214488983, -0.45846059918403625, -0.1867980659008026, -0.06946596503257751, -0.42293864488601685, 0.45255085825920105, -0.5726962685585022, 0.5478431582450867, 0.46681755781173706, 0.6025271415710449, 0.08838081359863281, -0.03817319869995117, 0.5169344544410706, 0.0239010751247406, 1.348873257637024, -0.36952662467956543, 0.030234426259994507, 0.025561943650245667, -0.11379235982894897, -0.1498430073261261, -0.14336970448493958, 0.5461220741271973, -0.2935050129890442, 0.09785999357700348, -0.3834579288959503, -0.14264318346977234, 0.24274462461471558, -0.31027355790138245, -0.1619146764278412, 0.6220068335533142, 0.06469734758138657, -0.22407209873199463, -0.37740400433540344, 0.0691114217042923, -0.18932056427001953, 0.173300638794899, 0.052872322499752045, 0.1907096803188324, -0.5309973955154419, -0.49643027782440186, -0.14210684597492218, -0.3972019553184509, 0.2707558870315552, 0.4500373601913452, -0.2895105481147766, -1.1466423273086548, -0.029387440532445908, 0.060935139656066895, -0.4570061266422272, 0.03733764588832855, 0.6383692026138306, -0.7229093313217163, 0.3171902000904083, 0.11031300574541092, -0.19098550081253052, -0.5439459681510925, -0.12024389207363129, -0.35831114649772644, 0.6635235548019409, 0.10647860914468765, 0.38793709874153137, -0.2803295850753784, 0.7519705295562744, -0.45989179611206055, 0.21949729323387146, -1.0344146490097046, 0.19242574274539948, -0.0045170411467552185, -0.5123705863952637, 0.01886020228266716, -0.2508147954940796, -0.5676991939544678, -0.4122060239315033, -2.3698511123657227, 0.002454519271850586, -0.4982064664363861, 0.5671228170394897, 0.01263090968132019, 0.5372132062911987, -0.016560155898332596, 0.5017441511154175, -0.055896177887916565, 0.5407096147537231, 0.32253506779670715, -0.17418314516544342, -0.09877374768257141, -0.03154868632555008, -0.1268293261528015, 0.11215440183877945, 0.3395753800868988, -0.20919589698314667, 0.300010085105896, -0.02180682122707367, -0.035193800926208496, 0.13522088527679443]}\n"
     ]
    }
   ],
   "source": [
    "from pymongo import MongoClient\n",
    "\n",
    "# connect to Mongo\n",
    "client = MongoClient(\"mongodb+srv:.net/?retryWrites=true&w=majority&appName=ItemSet\")\n",
    "db = client[\"Products\"]\n",
    "collection = db[\"DevClip\"]\n",
    "\n",
    "# Retrieve one item from the collection\n",
    "try:\n",
    "    document = collection.find_one()\n",
    "    if document:\n",
    "        print(\"Read access confirmed. Sample document:\", document)\n",
    "    else:\n",
    "        print(\"Connected but no documents found in the collection.\")\n",
    "except Exception as e:\n",
    "    print(\"Read access failed:\", str(e))"
   ]
  },
  {
   "cell_type": "code",
   "execution_count": 4,
   "metadata": {},
   "outputs": [],
   "source": [
    "from fastapi import FastAPI, HTTPException\n",
    "from pydantic import BaseModel\n",
    "from PIL import Image\n",
    "import requests\n",
    "from io import BytesIO\n",
    "from transformers import CLIPProcessor, CLIPModel\n",
    "import torch\n",
    "\n",
    "\n",
    "model = CLIPModel.from_pretrained(\"patrickjohncyh/fashion-clip\")\n",
    "processor = CLIPProcessor.from_pretrained(\"patrickjohncyh/fashion-clip\")"
   ]
  },
  {
   "cell_type": "code",
   "execution_count": 5,
   "metadata": {},
   "outputs": [
    {
     "name": "stderr",
     "output_type": "stream",
     "text": [
      "Processing items:  33%|███▎      | 546/1633 [04:57<11:19,  1.60it/s]"
     ]
    },
    {
     "name": "stdout",
     "output_type": "stream",
     "text": [
      "Error processing item 648437e1f0f526c7794ff60b: cannot identify image file <_io.BytesIO object at 0x128fd45e0>\n"
     ]
    },
    {
     "name": "stderr",
     "output_type": "stream",
     "text": [
      "Processing items:  53%|█████▎    | 864/1633 [08:37<07:30,  1.71it/s]"
     ]
    },
    {
     "name": "stdout",
     "output_type": "stream",
     "text": [
      "Error processing item 648437ebf0f526c7794ff682: cannot identify image file <_io.BytesIO object at 0x1294e38d0>\n"
     ]
    },
    {
     "name": "stderr",
     "output_type": "stream",
     "text": [
      "Processing items:  63%|██████▎   | 1024/1633 [10:34<06:16,  1.62it/s]"
     ]
    },
    {
     "name": "stdout",
     "output_type": "stream",
     "text": [
      "Error processing item 64843814f0f526c7794ff847: cannot identify image file <_io.BytesIO object at 0x1299a00e0>\n"
     ]
    },
    {
     "name": "stderr",
     "output_type": "stream",
     "text": [
      "Processing items:  63%|██████▎   | 1036/1633 [10:45<08:52,  1.12it/s]"
     ]
    },
    {
     "name": "stdout",
     "output_type": "stream",
     "text": [
      "Error processing item 64843818f0f526c7794ff871: cannot identify image file <_io.BytesIO object at 0x1294e1350>\n"
     ]
    },
    {
     "name": "stderr",
     "output_type": "stream",
     "text": [
      "Processing items:  70%|███████   | 1151/1633 [12:30<05:36,  1.43it/s]"
     ]
    },
    {
     "name": "stdout",
     "output_type": "stream",
     "text": [
      "Error processing item 6484381ef0f526c7794ff8b2: cannot identify image file <_io.BytesIO object at 0x129c603b0>\n"
     ]
    },
    {
     "name": "stderr",
     "output_type": "stream",
     "text": [
      "Processing items:  72%|███████▏  | 1170/1633 [12:47<06:47,  1.14it/s]"
     ]
    },
    {
     "name": "stdout",
     "output_type": "stream",
     "text": [
      "Error processing item 64843824f0f526c7794ff8f2: cannot identify image file <_io.BytesIO object at 0x129cc80e0>\n"
     ]
    },
    {
     "name": "stderr",
     "output_type": "stream",
     "text": [
      "Processing items:  72%|███████▏  | 1177/1633 [12:52<05:10,  1.47it/s]"
     ]
    },
    {
     "name": "stdout",
     "output_type": "stream",
     "text": [
      "Error processing item 64843825f0f526c7794ff901: cannot identify image file <_io.BytesIO object at 0x129cc9210>\n"
     ]
    },
    {
     "name": "stderr",
     "output_type": "stream",
     "text": [
      "Processing items:  76%|███████▌  | 1240/1633 [13:45<04:11,  1.56it/s]"
     ]
    },
    {
     "name": "stdout",
     "output_type": "stream",
     "text": [
      "Error processing item 64843819f0f526c7794ff877: cannot identify image file <_io.BytesIO object at 0x129e19850>\n"
     ]
    },
    {
     "name": "stderr",
     "output_type": "stream",
     "text": [
      "Processing items:  77%|███████▋  | 1257/1633 [13:59<03:55,  1.60it/s]"
     ]
    },
    {
     "name": "stdout",
     "output_type": "stream",
     "text": [
      "Error processing item 64843821f0f526c7794ff8cf: cannot identify image file <_io.BytesIO object at 0x129e9d080>\n"
     ]
    },
    {
     "name": "stderr",
     "output_type": "stream",
     "text": [
      "Processing items: 100%|██████████| 1633/1633 [19:50<00:00,  1.37it/s]"
     ]
    },
    {
     "name": "stdout",
     "output_type": "stream",
     "text": [
      "Finished updating embeddings\n"
     ]
    },
    {
     "name": "stderr",
     "output_type": "stream",
     "text": [
      "\n"
     ]
    }
   ],
   "source": [
    "from pymongo import MongoClient\n",
    "import requests\n",
    "from PIL import Image\n",
    "from io import BytesIO\n",
    "import torch\n",
    "\n",
    "# Connect to the MongoDB database\n",
    "client = MongoClient(\"mongodb+srdb.net/?retryWrites=true&w=majority&appName=ItemSet\")\n",
    "db = client[\"Products\"]\n",
    "collection = db[\"DevClip\"]\n",
    "\n",
    "def get_image_embedding(image_url):\n",
    "\n",
    "    response = requests.get(image_url)\n",
    "    image = Image.open(BytesIO(response.content))\n",
    "    \n",
    "    inputs = processor(images=image, return_tensors=\"pt\")\n",
    "    \n",
    "    with torch.no_grad():\n",
    "        image_features = model.get_image_features(**inputs)\n",
    "    \n",
    "    return image_features.squeeze().tolist()\n",
    "\n",
    "from tqdm import tqdm\n",
    "\n",
    "total_items = collection.count_documents({})\n",
    "for item in tqdm(collection.find(), total=total_items, desc=\"Processing items\"):\n",
    "    if item['image_urls']:\n",
    "        first_image_url = item['image_urls'][0]\n",
    "        try:\n",
    "            embedding = get_image_embedding(first_image_url)\n",
    "            \n",
    "            collection.update_one(\n",
    "                {'_id': item['_id']},\n",
    "                {'$set': {'image_embedding': embedding}}\n",
    "            )\n",
    "        except Exception as e:\n",
    "            print(f\"Error processing item {item['_id']}: {str(e)}\")\n",
    "    else:\n",
    "        print(f\"No image URLs for item {item['_id']}\")\n",
    "\n",
    "print(\"Finished updating embeddings\")"
   ]
  },
  {
   "cell_type": "code",
   "execution_count": 5,
   "metadata": {},
   "outputs": [
    {
     "ename": "NameError",
     "evalue": "name 'MongoClient' is not defined",
     "output_type": "error",
     "traceback": [
      "\u001b[0;31m---------------------------------------------------------------------------\u001b[0m",
      "\u001b[0;31mNameError\u001b[0m                                 Traceback (most recent call last)",
      "Cell \u001b[0;32mIn[5], line 4\u001b[0m\n\u001b[1;32m      1\u001b[0m \u001b[38;5;28;01mfrom\u001b[39;00m \u001b[38;5;21;01mpymongo\u001b[39;00m\u001b[38;5;21;01m.\u001b[39;00m\u001b[38;5;21;01moperations\u001b[39;00m \u001b[38;5;28;01mimport\u001b[39;00m SearchIndexModel\n\u001b[1;32m      3\u001b[0m \u001b[38;5;66;03m# Connect to the MongoDB database\u001b[39;00m\n\u001b[0;32m----> 4\u001b[0m client \u001b[38;5;241m=\u001b[39m \u001b[43mMongoClient\u001b[49m(\u001b[38;5;124m\"\u001b[39m\u001b[38;5;124mmongodb+srdb.net/?retryWrites=true&w=majority&appName=ItemSet\u001b[39m\u001b[38;5;124m\"\u001b[39m)\n\u001b[1;32m      5\u001b[0m db \u001b[38;5;241m=\u001b[39m client[\u001b[38;5;124m\"\u001b[39m\u001b[38;5;124mProducts\u001b[39m\u001b[38;5;124m\"\u001b[39m]\n\u001b[1;32m      6\u001b[0m collection \u001b[38;5;241m=\u001b[39m db[\u001b[38;5;124m\"\u001b[39m\u001b[38;5;124mDevClip\u001b[39m\u001b[38;5;124m\"\u001b[39m]\n",
      "\u001b[0;31mNameError\u001b[0m: name 'MongoClient' is not defined"
     ]
    }
   ],
   "source": [
    "from pymongo.operations import SearchIndexModel\n",
    "from pymongo import MongoClient\n",
    "\n",
    "\n",
    "# Connect to the MongoDB database\n",
    "client = MongoClient(\"mongodb+srdb.net/?retryWrites=true&w=majority&appName=ItemSet\")\n",
    "db = client[\"Products\"]\n",
    "collection = db[\"DevClip\"]\n",
    "\n",
    "# Attempt to drop the existing index if it exists\n",
    "try:\n",
    "    collection.drop_index(\"image_embedding_vector_index\")\n",
    "    print(\"Index 'image_embedding_vector_index' dropped successfully.\")\n",
    "except Exception as e:\n",
    "    if \"IndexNotFound\" in str(e):\n",
    "        print(\"Index 'image_embedding_vector_index' does not exist. Proceeding to create it.\")\n",
    "    else:\n",
    "        raise\n",
    "\n",
    "# Define the index\n",
    "index_definition = {\n",
    "    \"mappings\": {\n",
    "        \"dynamic\": True,\n",
    "        \"fields\": {\n",
    "            \"image_embedding\": {\n",
    "                \"type\": \"knnVector\",\n",
    "                \"dimensions\": 512,\n",
    "                \"similarity\": \"cosine\"\n",
    "            }\n",
    "        }\n",
    "    }\n",
    "}\n",
    "\n",
    "# Create the SearchIndexModel\n",
    "index_name = \"image_embedding_vector_index\"\n",
    "search_index_model = SearchIndexModel(index_definition, name=index_name)\n",
    "\n",
    "# Create the index\n",
    "result = collection.create_search_index(search_index_model)\n",
    "\n",
    "print(f\"Index '{index_name}' created successfully. Result: {result}\")"
   ]
  },
  {
   "cell_type": "code",
   "execution_count": 60,
   "metadata": {},
   "outputs": [
    {
     "name": "stdout",
     "output_type": "stream",
     "text": [
      "inputs {'input_ids': tensor([[49406,  7224,  1856,  2595, 49407]]), 'attention_mask': tensor([[1, 1, 1, 1, 1]])}\n",
      "MDB QUERY Time taken: 0.0708 seconds\n"
     ]
    },
    {
     "data": {
      "text/plain": [
       "[{'_id': ObjectId('64843818f0f526c7794ff873'),\n",
       "  'item_id': 2494,\n",
       "  'item_url': 'https://us.princesspolly.com/products/micah-mini-dress-blue-multi',\n",
       "  'product_brand': 'Princess Polly',\n",
       "  'short_description': 'Micah Mini Dress Blue Multi',\n",
       "  'image_urls': ['https://stylimages.s3.amazonaws.com/2494_1.jpg',\n",
       "   'https://stylimages.s3.amazonaws.com/2494_2.jpg',\n",
       "   'https://stylimages.s3.amazonaws.com/2494_3.jpg',\n",
       "   'https://stylimages.s3.amazonaws.com/2494_4.jpg',\n",
       "   'https://stylimages.s3.amazonaws.com/2494_5.jpg',\n",
       "   'https://stylimages.s3.amazonaws.com/2494_6.jpg',\n",
       "   'https://stylimages.s3.amazonaws.com/2494_7.jpg',\n",
       "   'https://stylimages.s3.amazonaws.com/2494_8.jpg',\n",
       "   'https://stylimages.s3.amazonaws.com/2494_10.jpg'],\n",
       "  'score': 0.6711717844009399},\n",
       " {'_id': ObjectId('6484381df0f526c7794ff8aa'),\n",
       "  'item_id': 2551,\n",
       "  'item_url': 'https://us.princesspolly.com/products/dale-mini-dress-black',\n",
       "  'product_brand': 'Princess Polly',\n",
       "  'short_description': 'Dale Mini Dress Black',\n",
       "  'image_urls': ['https://stylimages.s3.amazonaws.com/2551_1.jpg',\n",
       "   'https://stylimages.s3.amazonaws.com/2551_2.jpg',\n",
       "   'https://stylimages.s3.amazonaws.com/2551_3.jpg',\n",
       "   'https://stylimages.s3.amazonaws.com/2551_4.jpg',\n",
       "   'https://stylimages.s3.amazonaws.com/2551_5.jpg',\n",
       "   'https://stylimages.s3.amazonaws.com/2551_6.jpg'],\n",
       "  'score': 0.6696546673774719},\n",
       " {'_id': ObjectId('64843823f0f526c7794ff8e8'),\n",
       "  'item_id': 2616,\n",
       "  'item_url': 'https://us.princesspolly.com/products/nashville-mini-dress-black',\n",
       "  'product_brand': 'Princess Polly',\n",
       "  'short_description': 'Nashville Mini Dress Black',\n",
       "  'image_urls': ['https://cdn.shopify.com/s/files/1/0061/8627/0804/products/2-modelinfo-christy-us4_575f677c-a41f-46e4-b55e-f8ceffab3654_1800x.progressive.jpg?v=1656538693',\n",
       "   'https://cdn.shopify.com/s/files/1/0061/8627/0804/products/1-modelinfo-Juliana-us2_558ba2ae-2985-41b2-b727-c8eb466fa8e8_1800x.progressive.jpg?v=1656538693',\n",
       "   'https://cdn.shopify.com/s/files/1/0061/8627/0804/products/3-modelinfo-christy-us4_17bb3ab9-2b4b-458c-87b7-31c178ccab66_1800x.progressive.jpg?v=1656538693',\n",
       "   'https://cdn.shopify.com/s/files/1/0061/8627/0804/products/1-modelinfo-christy-us4_8eba999c-4edd-4a6e-a0da-ae17a39ba697_1800x.progressive.jpg?v=1656538693',\n",
       "   'https://cdn.shopify.com/s/files/1/0061/8627/0804/products/4-modelinfo-christy-us4_1bfff1b8-2076-4402-a526-9abeeea43865_1800x.progressive.jpg?v=1656538693',\n",
       "   'https://cdn.shopify.com/s/files/1/0061/8627/0804/products/5-modelinfo-Juliana-us2_07735b26-0f21-4fcb-90d7-3b6c2c07444b_1800x.progressive.jpg?v=1656538692'],\n",
       "  'score': 0.6687595844268799},\n",
       " {'_id': ObjectId('6484381bf0f526c7794ff893'),\n",
       "  'item_id': 2528,\n",
       "  'item_url': 'https://us.princesspolly.com/products/beenna-velour-set-black',\n",
       "  'product_brand': 'Princess Polly',\n",
       "  'short_description': 'Beenna Velour Set Black',\n",
       "  'image_urls': ['https://cdn.shopify.com/s/files/1/0061/8627/0804/products/1-modelinfo-Christy-us2_6b291494-a260-4e75-bc8f-f4ff0f577672_1800x.progressive.jpg?v=1670389206',\n",
       "   'https://cdn.shopify.com/s/files/1/0061/8627/0804/products/3-modelinfo-Christy-us2_a663851c-9b80-4818-945f-c5409bf2d680_1800x.progressive.jpg?v=1670389207',\n",
       "   'https://cdn.shopify.com/s/files/1/0061/8627/0804/products/2-modelinfo-Christy-us2_4bb9c75b-05a3-42f4-a5ea-f98ae37a3c75_1800x.progressive.jpg?v=1670389206',\n",
       "   'https://cdn.shopify.com/s/files/1/0061/8627/0804/products/4-modelinfo-Christy-us2_77c41a68-5234-410f-8e3f-6ef51ebe22f9_1800x.progressive.jpg?v=1670389206',\n",
       "   'https://cdn.shopify.com/s/files/1/0061/8627/0804/products/0-modelinfo-christy-us2_8b5b6851-9b22-462e-8f17-54d6246e2d39_1800x.progressive.jpg?v=1670389191'],\n",
       "  'score': 0.667915940284729},\n",
       " {'_id': ObjectId('64843819f0f526c7794ff87b'),\n",
       "  'item_id': 2502,\n",
       "  'item_url': 'https://us.princesspolly.com/products/motel-lesty-dress',\n",
       "  'product_brand': 'Princess Polly',\n",
       "  'short_description': 'Motel Lesty Dress Black',\n",
       "  'image_urls': ['https://us.princesspolly.com/cdn/shop/files/0-modelinfo-Beanie-us2_549a0c3c-2b62-4656-a64c-8877158fd954.jpg?v=1682490122',\n",
       "   'https://us.princesspolly.com/cdn/shop/products/Motel-Lesty-Dress.jpg?v=1682490122',\n",
       "   'https://us.princesspolly.com/cdn/shop/products/1_129_162.jpg?v=1682490122',\n",
       "   'https://us.princesspolly.com/cdn/shop/products/2_123_159.jpg?v=1682490122',\n",
       "   'https://us.princesspolly.com/cdn/shop/products/3_120_141.jpg?v=1682490122',\n",
       "   'https://us.princesspolly.com/cdn/shop/products/Motel-Lesty-Dress_52ec1026-cd7d-45e5-9c26-f397be3e4bc5.jpg?v=1682490122',\n",
       "   'https://us.princesspolly.com/cdn/shop/files/5-modelinfo-Beanie-us2_758fb5cf-07eb-4161-9205-b40378a340a8.jpg?v=1682490120'],\n",
       "  'score': 0.6678622364997864},\n",
       " {'_id': ObjectId('6484381ff0f526c7794ff8bf'),\n",
       "  'item_id': 2572,\n",
       "  'item_url': 'https://us.princesspolly.com/products/violetta-mini-dress-purple',\n",
       "  'product_brand': 'Princess Polly',\n",
       "  'short_description': 'Violetta Mini Dress Purple',\n",
       "  'image_urls': ['https://stylimages.s3.amazonaws.com/2572_1.jpg',\n",
       "   'https://stylimages.s3.amazonaws.com/2572_2.jpg',\n",
       "   'https://stylimages.s3.amazonaws.com/2572_3.jpg',\n",
       "   'https://stylimages.s3.amazonaws.com/2572_4.jpg',\n",
       "   'https://stylimages.s3.amazonaws.com/2572_5.jpg',\n",
       "   'https://stylimages.s3.amazonaws.com/2572_6.jpg',\n",
       "   'https://stylimages.s3.amazonaws.com/2572_7.jpg'],\n",
       "  'score': 0.6664055585861206},\n",
       " {'_id': ObjectId('648437c6f0f526c7794ff4e6'),\n",
       "  'item_id': 328,\n",
       "  'item_url': 'https://www.urbanoutfitters.com/shop/uo-alana-chain-mini-dress?category=dresses&color=021&type=REGULAR',\n",
       "  'product_brand': 'Urban Outfitters',\n",
       "  'short_description': 'Alana Chain Mini Dress',\n",
       "  'image_urls': ['https://images.urbndata.com/is/image/UrbanOutfitters/74399809_021_b?$xlarge$&fit=constrain&qlt=80&wid=640',\n",
       "   'https://images.urbndata.com/is/image/UrbanOutfitters/74399809_021_d?$xlarge$&fit=constrain&qlt=80&wid=640',\n",
       "   'https://images.urbndata.com/is/image/UrbanOutfitters/74399809_021_e?$xlarge$&fit=constrain&qlt=80&wid=640'],\n",
       "  'score': 0.6654453277587891},\n",
       " {'_id': ObjectId('648437f9f0f526c7794ff728'),\n",
       "  'item_id': 1937,\n",
       "  'item_url': 'https://www.aritzia.com/us/en/product/sculpt-knit-notch-dress/103837.html?dwvar_103837_color=25164',\n",
       "  'product_brand': 'Aritzia',\n",
       "  'short_description': 'Sculpt Knit Notch Dress',\n",
       "  'image_urls': ['https://aritzia.scene7.com/is/image/Aritzia/large/f22_01_a08_103837_25164_on_a.jpg',\n",
       "   'https://aritzia.scene7.com/is/image/Aritzia/large/f22_01_a08_103837_25164_on_b.jpg',\n",
       "   'https://aritzia.scene7.com/is/image/Aritzia/large/f22_01_a08_103837_25164_on_c.jpg',\n",
       "   'https://aritzia.scene7.com/is/image/Aritzia/large/f22_01_a08_103837_25164_on_d.jpg',\n",
       "   'https://aritzia.scene7.com/is/image/Aritzia/large/f22_01_a08_103837_25164_on_e.jpg',\n",
       "   'https://aritzia.scene7.com/is/image/Aritzia/large/f22_01_a08_103837_25164_off_a.jpg',\n",
       "   'https://aritzia.scene7.com/is/image/Aritzia/large/f22_01_a08_103837_25164_off_b.jpg',\n",
       "   'https://aritzia.scene7.com/is/image/Aritzia/large/f22_01_a08_103837_25164_off_c.jpg'],\n",
       "  'score': 0.6653773784637451},\n",
       " {'_id': ObjectId('64843806f0f526c7794ff7a6'),\n",
       "  'item_id': 2128,\n",
       "  'item_url': 'https://www.aritzia.com/us/en/product/henrietta-dress/100970.html?dwvar_100970_color=27369',\n",
       "  'product_brand': 'Aritzia',\n",
       "  'short_description': 'Henrietta Dress',\n",
       "  'image_urls': ['https://aritzia.scene7.com/is/image/Aritzia/large/f22_02_a08_100970_27369_on_a.jpg',\n",
       "   'https://aritzia.scene7.com/is/image/Aritzia/large/f22_02_a08_100970_27369_on_b.jpg',\n",
       "   'https://aritzia.scene7.com/is/image/Aritzia/large/f22_02_a08_100970_27369_on_c.jpg',\n",
       "   'https://aritzia.scene7.com/is/image/Aritzia/large/f22_02_a08_100970_27369_on_d.jpg',\n",
       "   'https://aritzia.scene7.com/is/image/Aritzia/large/f22_02_a08_100970_27369_on_e.jpg',\n",
       "   'https://aritzia.scene7.com/is/image/Aritzia/large/f22_02_a08_100970_27369_off_a.jpg',\n",
       "   'https://aritzia.scene7.com/is/image/Aritzia/large/f22_02_a08_100970_27369_off_b.jpg',\n",
       "   'https://aritzia.scene7.com/is/image/Aritzia/large/f22_02_a08_100970_27369_off_c.jpg'],\n",
       "  'score': 0.6650336384773254},\n",
       " {'_id': ObjectId('648437c0f0f526c7794ff49d'),\n",
       "  'item_id': 225,\n",
       "  'item_url': 'https://www.urbanoutfitters.com/shop/daisy-street-mesh-mini-dress?category=dresses&color=049&type=REGULAR',\n",
       "  'product_brand': 'Urban Outfitters',\n",
       "  'short_description': 'Daisy Street Mesh Mini Dress',\n",
       "  'image_urls': ['https://images.urbndata.com/is/image/UrbanOutfitters/68867787_049_b?$xlarge$&fit=constrain&qlt=80&wid=640',\n",
       "   'https://images.urbndata.com/is/image/UrbanOutfitters/68867787_049_d?$xlarge$&fit=constrain&qlt=80&wid=640',\n",
       "   'https://images.urbndata.com/is/image/UrbanOutfitters/68867787_049_e?$xlarge$&fit=constrain&qlt=80&wid=640',\n",
       "   'https://images.urbndata.com/is/image/UrbanOutfitters/68867787_049_f?$xlarge$&fit=constrain&qlt=80&wid=640'],\n",
       "  'score': 0.6650213003158569}]"
      ]
     },
     "execution_count": 60,
     "metadata": {},
     "output_type": "execute_result"
    }
   ],
   "source": [
    "import time\n",
    "\n",
    "def get_embedding(input_data, input_type='image'):\n",
    "    if input_type == 'image':\n",
    "        if isinstance(input_data, str):  # If it's a URL\n",
    "            response = requests.get(input_data)\n",
    "            image = Image.open(BytesIO(response.content))\n",
    "        else:  # If it's already a PIL Image\n",
    "            image = input_data\n",
    "        \n",
    "        inputs = processor(images=image, return_tensors=\"pt\")\n",
    "        \n",
    "        with torch.no_grad():\n",
    "            features = model.get_image_features(**inputs)\n",
    "    elif input_type == 'text':\n",
    "        inputs = processor(text=input_data, return_tensors=\"pt\", padding=True)\n",
    "        print(\"inputs\", inputs)\n",
    "\n",
    "        with torch.no_grad():\n",
    "            features = model.get_text_features(**inputs)\n",
    "\n",
    "    \n",
    "    else:\n",
    "        raise ValueError(\"Invalid input_type. Must be 'image' or 'text'.\")\n",
    "    \n",
    "    return features.squeeze().tolist()\n",
    "\n",
    "\n",
    "\n",
    "text = \"slutty dress\"\n",
    "text_embedding = get_embedding(text, input_type='text')\n",
    "\n",
    "\n",
    "query_image_url = \"https://www.lulus.com/images/product/xlarge/8401921_1714576.jpg?w=195&hdpi=1\"\n",
    "query_embedding = get_embedding(query_image_url, input_type='image')\n",
    "\n",
    "\n",
    "pipeline = [\n",
    "    {\n",
    "        \"$vectorSearch\": {\n",
    "            \"index\": \"image_embedding_vector_index\",\n",
    "            \"path\": \"image_embedding\",\n",
    "            \"queryVector\": text_embedding,\n",
    "            \"numCandidates\": 100,\n",
    "            \"limit\": 10\n",
    "        }\n",
    "    },\n",
    "    {\n",
    "        \"$project\": {\n",
    "            \"_id\": 1,\n",
    "            \"item_id\": 1,\n",
    "            \"item_url\": 1,\n",
    "            \"product_brand\": 1,\n",
    "            \"short_description\": 1,\n",
    "            \"image_urls\": 1,\n",
    "            \"score\": {\"$meta\": \"vectorSearchScore\"}\n",
    "        }\n",
    "    }\n",
    "]\n",
    "\n",
    "start_time = time.time()\n",
    "results = list(collection.aggregate(pipeline))\n",
    "end_time = time.time()\n",
    "print(f\"MDB QUERY Time taken: {end_time - start_time:.4f} seconds\")\n",
    "results"
   ]
  },
  {
   "cell_type": "code",
   "execution_count": null,
   "metadata": {},
   "outputs": [],
   "source": []
  },
  {
   "cell_type": "code",
   "execution_count": null,
   "metadata": {},
   "outputs": [],
   "source": []
  }
 ],
 "metadata": {
  "kernelspec": {
   "display_name": "Python 3",
   "language": "python",
   "name": "python3"
  },
  "language_info": {
   "codemirror_mode": {
    "name": "ipython",
    "version": 3
   },
   "file_extension": ".py",
   "mimetype": "text/x-python",
   "name": "python",
   "nbconvert_exporter": "python",
   "pygments_lexer": "ipython3",
   "version": "3.11.3"
  }
 },
 "nbformat": 4,
 "nbformat_minor": 2
}
